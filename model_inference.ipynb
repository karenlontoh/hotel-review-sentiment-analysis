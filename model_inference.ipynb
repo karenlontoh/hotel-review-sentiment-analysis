{
 "cells": [
  {
   "cell_type": "markdown",
   "metadata": {},
   "source": [
    "# Model Inference"
   ]
  },
  {
   "cell_type": "markdown",
   "metadata": {},
   "source": [
    "# Import Libraries"
   ]
  },
  {
   "cell_type": "code",
   "execution_count": 1,
   "metadata": {},
   "outputs": [
    {
     "name": "stderr",
     "output_type": "stream",
     "text": [
      "[nltk_data] Downloading package stopwords to\n",
      "[nltk_data]     /Users/karenlontoh/nltk_data...\n",
      "[nltk_data]   Package stopwords is already up-to-date!\n",
      "[nltk_data] Downloading package punkt to\n",
      "[nltk_data]     /Users/karenlontoh/nltk_data...\n",
      "[nltk_data]   Package punkt is already up-to-date!\n"
     ]
    },
    {
     "data": {
      "text/plain": [
       "True"
      ]
     },
     "execution_count": 1,
     "metadata": {},
     "output_type": "execute_result"
    }
   ],
   "source": [
    "#import streamlit as st\n",
    "import numpy as np\n",
    "import re\n",
    "from tensorflow import keras\n",
    "from nltk.corpus import stopwords\n",
    "from nltk.tokenize import word_tokenize\n",
    "import nltk\n",
    "\n",
    "# Download the stopwords resource\n",
    "nltk.download('stopwords')\n",
    "nltk.download('punkt')"
   ]
  },
  {
   "cell_type": "markdown",
   "metadata": {},
   "source": [
    "# Load Model"
   ]
  },
  {
   "cell_type": "code",
   "execution_count": 2,
   "metadata": {},
   "outputs": [
    {
     "name": "stderr",
     "output_type": "stream",
     "text": [
      "2024-11-05 12:33:23.159276: I metal_plugin/src/device/metal_device.cc:1154] Metal device set to: Apple M2\n",
      "2024-11-05 12:33:23.159311: I metal_plugin/src/device/metal_device.cc:296] systemMemory: 8.00 GB\n",
      "2024-11-05 12:33:23.159314: I metal_plugin/src/device/metal_device.cc:313] maxCacheSize: 2.67 GB\n",
      "2024-11-05 12:33:23.159576: I tensorflow/core/common_runtime/pluggable_device/pluggable_device_factory.cc:303] Could not identify NUMA node of platform GPU ID 0, defaulting to 0. Your kernel may not have been built with NUMA support.\n",
      "2024-11-05 12:33:23.159593: I tensorflow/core/common_runtime/pluggable_device/pluggable_device_factory.cc:269] Created TensorFlow device (/job:localhost/replica:0/task:0/device:GPU:0 with 0 MB memory) -> physical PluggableDevice (device: 0, name: METAL, pci bus id: <undefined>)\n",
      "2024-11-05 12:33:24.683720: I tensorflow/core/grappler/optimizers/custom_graph_optimizer_registry.cc:114] Plugin optimizer for device_type GPU is enabled.\n",
      "2024-11-05 12:33:24.775763: I tensorflow/core/grappler/optimizers/custom_graph_optimizer_registry.cc:114] Plugin optimizer for device_type GPU is enabled.\n",
      "2024-11-05 12:33:24.780900: I tensorflow/core/grappler/optimizers/custom_graph_optimizer_registry.cc:114] Plugin optimizer for device_type GPU is enabled.\n"
     ]
    }
   ],
   "source": [
    "# Load the model\n",
    "model = keras.models.load_model('best_model_lstm_2')"
   ]
  },
  {
   "cell_type": "markdown",
   "metadata": {},
   "source": [
    "# Text Preprocessing"
   ]
  },
  {
   "cell_type": "code",
   "execution_count": 3,
   "metadata": {},
   "outputs": [],
   "source": [
    "# Load stopwords\n",
    "stpwds_en = list(set(stopwords.words('english')))"
   ]
  },
  {
   "cell_type": "code",
   "execution_count": 4,
   "metadata": {},
   "outputs": [],
   "source": [
    "# Text preprocessing function\n",
    "def text_preprocessing(text):\n",
    "    # Case folding\n",
    "    text = text.lower()\n",
    "\n",
    "    # Mention removal\n",
    "    text = re.sub(\"@[A-Za-z0-9_]+\", \" \", text)\n",
    "\n",
    "    # Hashtags removal\n",
    "    text = re.sub(\"#[A-Za-z0-9_]+\", \" \", text)\n",
    "\n",
    "    # Newline removal (\\n)\n",
    "    text = re.sub(r\"\\\\n\", \" \",text)\n",
    "\n",
    "    # Whitespace removal\n",
    "    text = text.strip()\n",
    "\n",
    "    # URL removal\n",
    "    text = re.sub(r\"http\\S+\", \" \", text)\n",
    "    text = re.sub(r\"www.\\S+\", \" \", text)\n",
    "\n",
    "    # Non-letter removal (such as emoticons, symbols, etc.)\n",
    "    text = re.sub(\"[^A-Za-z\\s']\", \" \", text)\n",
    "\n",
    "    # Tokenization\n",
    "    tokens = word_tokenize(text)\n",
    "\n",
    "    # Stopwords removal\n",
    "    tokens = [word for word in tokens if word not in stpwds_en]\n",
    "\n",
    "    # Combining Tokens\n",
    "    text = ' '.join(tokens)\n",
    "\n",
    "    return text"
   ]
  },
  {
   "cell_type": "markdown",
   "metadata": {},
   "source": [
    "# Data Inference"
   ]
  },
  {
   "cell_type": "code",
   "execution_count": 5,
   "metadata": {},
   "outputs": [],
   "source": [
    "# Data inference for each sentiment\n",
    "inf_neg = \"My experience was disappointing; the food was bland and not fresh.\"\n",
    "inf_neu = \"It was an okay stay, nothing special.\"\n",
    "inf_pos = \"The hotel was great and the staff were friendly!\""
   ]
  },
  {
   "cell_type": "code",
   "execution_count": 6,
   "metadata": {},
   "outputs": [],
   "source": [
    "# Function \n",
    "def check_sentiment(inf_text):\n",
    "    processed_text = text_preprocessing(inf_text)\n",
    "    prediction = model.predict(np.array([[processed_text]]))  \n",
    "    sentiment_classes = ['Negative', 'Neutral', 'Positive']\n",
    "    predicted_class_index = np.argmax(prediction)\n",
    "    return sentiment_classes[predicted_class_index]"
   ]
  },
  {
   "cell_type": "markdown",
   "metadata": {},
   "source": [
    "# Predict"
   ]
  },
  {
   "cell_type": "code",
   "execution_count": 7,
   "metadata": {},
   "outputs": [
    {
     "name": "stderr",
     "output_type": "stream",
     "text": [
      "2024-11-05 12:33:25.139799: I tensorflow/core/grappler/optimizers/custom_graph_optimizer_registry.cc:114] Plugin optimizer for device_type GPU is enabled.\n",
      "2024-11-05 12:33:25.249450: I tensorflow/core/grappler/optimizers/custom_graph_optimizer_registry.cc:114] Plugin optimizer for device_type GPU is enabled.\n",
      "2024-11-05 12:33:25.261633: I tensorflow/core/grappler/optimizers/custom_graph_optimizer_registry.cc:114] Plugin optimizer for device_type GPU is enabled.\n"
     ]
    },
    {
     "name": "stdout",
     "output_type": "stream",
     "text": [
      "1/1 [==============================] - 0s 394ms/step\n",
      "Review: 'My experience was disappointing; the food was bland and not fresh.' - Sentiment: Negative\n",
      "1/1 [==============================] - 0s 45ms/step\n",
      "Review: 'It was an okay stay, nothing special.' - Sentiment: Neutral\n",
      "1/1 [==============================] - 0s 40ms/step\n",
      "Review: 'The hotel was great and the staff were friendly!' - Sentiment: Positive\n"
     ]
    }
   ],
   "source": [
    "# Check sentiment for each example\n",
    "print(f\"Review: '{inf_neg}' - Sentiment: {check_sentiment(inf_neg)}\")\n",
    "print(f\"Review: '{inf_neu}' - Sentiment: {check_sentiment(inf_neu)}\")\n",
    "print(f\"Review: '{inf_pos}' - Sentiment: {check_sentiment(inf_pos)}\")"
   ]
  },
  {
   "cell_type": "markdown",
   "metadata": {},
   "source": [
    "Based on the inference data, it can be seen that the model is able to predict whether reviews are classified as negative, neutral, or positive effectively."
   ]
  }
 ],
 "metadata": {
  "kernelspec": {
   "display_name": "tensorflow",
   "language": "python",
   "name": "python3"
  },
  "language_info": {
   "codemirror_mode": {
    "name": "ipython",
    "version": 3
   },
   "file_extension": ".py",
   "mimetype": "text/x-python",
   "name": "python",
   "nbconvert_exporter": "python",
   "pygments_lexer": "ipython3",
   "version": "3.8.20"
  }
 },
 "nbformat": 4,
 "nbformat_minor": 2
}
